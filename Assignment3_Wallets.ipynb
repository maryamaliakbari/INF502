{
 "cells": [
  {
   "cell_type": "markdown",
   "metadata": {},
   "source": [
    "create five different wallets and put numbers in. Then collect all amounts into a single list."
   ]
  },
  {
   "cell_type": "code",
   "execution_count": 75,
   "metadata": {},
   "outputs": [
    {
     "name": "stdout",
     "output_type": "stream",
     "text": [
      "please enter wallet1 amount: 2\n",
      "please enter wallet1 amount: 11\n",
      "please enter wallet1 amount: 54\n",
      "please enter wallet1 amount: 74\n",
      "please enter wallet1 amount: 31\n"
     ]
    }
   ],
   "source": [
    "wallet1 = int(input(\"please enter wallet1 amount: \"))\n",
    "wallet2 = int(input(\"please enter wallet1 amount: \"))\n",
    "wallet3 = int(input(\"please enter wallet1 amount: \"))\n",
    "wallet4 = int(input(\"please enter wallet1 amount: \"))\n",
    "wallet5 = int(input(\"please enter wallet1 amount: \"))"
   ]
  },
  {
   "cell_type": "code",
   "execution_count": null,
   "metadata": {},
   "outputs": [],
   "source": [
    "Define function to calculate maximum wallets number."
   ]
  },
  {
   "cell_type": "code",
   "execution_count": 76,
   "metadata": {
    "scrolled": true
   },
   "outputs": [
    {
     "name": "stdout",
     "output_type": "stream",
     "text": [
      "The fattest wallet has 74$ value in it\n"
     ]
    }
   ],
   "source": [
    "wallets = [wallet1, wallet2, wallet3, wallet4, wallet5]\n",
    "def Fattest(Wallets):\n",
    "    max_value = max(Wallets)\n",
    "    return max_value\n",
    "print(\"The fattest wallet has \" + str(Fattest(wallets)) + \"$ value in it\")"
   ]
  },
  {
   "cell_type": "markdown",
   "metadata": {},
   "source": [
    "Define function to calculate minimum wallets number."
   ]
  },
  {
   "cell_type": "code",
   "execution_count": 77,
   "metadata": {},
   "outputs": [
    {
     "name": "stdout",
     "output_type": "stream",
     "text": [
      "The Skinniest wallet has 2$ value in it\n"
     ]
    }
   ],
   "source": [
    "def Skinniest(Wallets):\n",
    "    min_value = min(Wallets)\n",
    "    return min_value\n",
    "print(\"The Skinniest wallet has \" + str(Skinniest(wallets)) + \"$ value in it\")"
   ]
  },
  {
   "cell_type": "markdown",
   "metadata": {},
   "source": [
    "Define function to calculate the sum of five wallets."
   ]
  },
  {
   "cell_type": "code",
   "execution_count": 78,
   "metadata": {
    "scrolled": true
   },
   "outputs": [
    {
     "name": "stdout",
     "output_type": "stream",
     "text": [
      "All together, these wallets have 172$ value in them\n"
     ]
    }
   ],
   "source": [
    "def Total(Wallets):\n",
    "    Sum = sum(Wallets)\n",
    "    return Sum\n",
    "print(\"All together, these wallets have \" + str(Total(wallets)) + \"$ value in them\")"
   ]
  },
  {
   "cell_type": "markdown",
   "metadata": {},
   "source": [
    "Define function to calculate the sum of five wallets in dimes."
   ]
  },
  {
   "cell_type": "code",
   "execution_count": 79,
   "metadata": {},
   "outputs": [
    {
     "name": "stdout",
     "output_type": "stream",
     "text": [
      "All together, the total value of these wallets is worth 1720$ dimes\n"
     ]
    }
   ],
   "source": [
    "def dime(Wallets):\n",
    "    Dimes = 10*sum(Wallets)\n",
    "    return Dimes\n",
    "print(\"All together, the total value of these wallets is worth \" + str(dime(wallets)) + \"$ dimes\")"
   ]
  }
 ],
 "metadata": {
  "kernelspec": {
   "display_name": "Python 3",
   "language": "python",
   "name": "python3"
  },
  "language_info": {
   "codemirror_mode": {
    "name": "ipython",
    "version": 3
   },
   "file_extension": ".py",
   "mimetype": "text/x-python",
   "name": "python",
   "nbconvert_exporter": "python",
   "pygments_lexer": "ipython3",
   "version": "3.8.3"
  }
 },
 "nbformat": 4,
 "nbformat_minor": 4
}
