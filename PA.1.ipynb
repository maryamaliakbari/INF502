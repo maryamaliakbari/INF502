{
 "cells": [
  {
   "cell_type": "markdown",
   "metadata": {},
   "source": [
    "I divided the problem into seven parts and created seven different functions in my program.\n",
    "Similarity, MAXChain, shifting_seq1, Shifting_seq2, max_chain_seq1, max_chain_seq2 and main functions were created.\n",
    "\n",
    "In the main function: \n",
    "I read the two DNA sequence files and take all the user defined inputs(max shifts, number of matches and max contiguous chain).\n",
    "I used the try/except blocks for possible errors in the user inputs. \n",
    "\n",
    "In the Similarity function:\n",
    "seq1 and seq2 are compared and number of matches are returned as score.\n",
    "\n",
    "In the MAXChain function:\n",
    "The function calculates the size of the maximum contiguous chain that matches the sequences and the sequences will print.\n",
    "\n",
    "IN the shifting_seq1&2 and max_chain_seq1&2:\n",
    "At first, the two sequences are compared (without any shift) and \n",
    "the number of matches are stored. Then one sequence is shifted by one place and compared with the other one. \n",
    "In each case, the match number and max contigous chain are stored.\n",
    "\n",
    "The hurdle I faced was about max contiguous chain. I could not understand the problem and what you exactly expected us to do. writing algorithm for this part was the hardest part as well. Another thing was about using try and Exception error. I was not sure how i can use them in my code."
   ]
  },
  {
   "cell_type": "code",
   "execution_count": 20,
   "metadata": {},
   "outputs": [],
   "source": [
    "def Similarity(seq1,seq2):\n",
    "    score = 0\n",
    "    for i in range(0,len(seq1)):\n",
    "        if seq1[i] == seq2[i]:\n",
    "            score = score+1\n",
    "    return score"
   ]
  },
  {
   "cell_type": "code",
   "execution_count": 21,
   "metadata": {},
   "outputs": [],
   "source": [
    "def MAXChain(seq1,seq2):\n",
    "           \n",
    "    chain = 0\n",
    "    total = 0\n",
    "    for i in range(0,len(seq1)):\n",
    "        if seq1[i] == seq2[i] and total == 0:\n",
    "            total = i\n",
    "            chain =  chain + 1\n",
    "        elif seq1[i] == seq2[i]  and i ==  (total + 1):\n",
    "            total = i\n",
    "            chain  = chain + 1\n",
    "    return chain"
   ]
  },
  {
   "cell_type": "code",
   "execution_count": 22,
   "metadata": {},
   "outputs": [],
   "source": [
    "def shifting_Seq1(s1,s2,shifts):\n",
    "    print(\"Before shifting\")\n",
    "    score = Similarity(s1,s2)\n",
    "    print(s1)\n",
    "    print(s2)\n",
    "    print(\"Score:\",score)\n",
    "    print(\"\\n\")\n",
    "\n",
    "    for i in range(0,int(shifts)):\n",
    "        print(\"shifting sequence1 by \"+ str(i+1))\n",
    "        s1 = '-'+s1\n",
    "        s2 = s2+'-'\n",
    "        score = Similarity(s1,s2)\n",
    "        print(s1)\n",
    "        print(s2)\n",
    "        print(\"Score:\",score)\n",
    "        print(\"\\n\")"
   ]
  },
  {
   "cell_type": "code",
   "execution_count": 23,
   "metadata": {},
   "outputs": [],
   "source": [
    "def shifting_Seq2(s1,s2,shifts):\n",
    "\n",
    "    for i in range(0,int(shifts)):\n",
    "        print(\"shifting sequence2 by \"+str(i+1))\n",
    "        s1 = s1+'-'\n",
    "        s2 = '-'+s2\n",
    "        score = Similarity(s1,s2)\n",
    "        print(s1)\n",
    "        print(s2)\n",
    "        print(\"Score:\",score)\n",
    "        print(\"\\n\")"
   ]
  },
  {
   "cell_type": "code",
   "execution_count": 24,
   "metadata": {},
   "outputs": [],
   "source": [
    "def max_chain_Seq1(s1,s2,shifts):\n",
    " \n",
    "    for i in range(0,int(shifts)):\n",
    "        print(\"shifting sequence1 by \"+ str(i+1))\n",
    "        s1 = '-'+s1\n",
    "        s2 = s2+'-'\n",
    "        print(s1)\n",
    "        print(s2)\n",
    "        print(\"Max contiguous Chain:\",MAXChain(s1,s2))\n",
    "        print(\"\\n\")\n",
    "\n"
   ]
  },
  {
   "cell_type": "code",
   "execution_count": 25,
   "metadata": {},
   "outputs": [],
   "source": [
    "def max_chain_Seq2(s1,s2,shifts):\n",
    "   \n",
    "    for i in range(0,int(shifts)):\n",
    "        print(\"shifting sequence2 by \"+ str(i+1))\n",
    "        s1 = s1+'-'\n",
    "        s2 = '-'+s2\n",
    "        print(s1)\n",
    "        print(s2)\n",
    "        print(\"Max contiguous Chain:\",MAXChain(s1,s2))\n",
    "        print(\"\\n\")"
   ]
  },
  {
   "cell_type": "code",
   "execution_count": 26,
   "metadata": {
    "scrolled": true
   },
   "outputs": [
    {
     "name": "stdout",
     "output_type": "stream",
     "text": [
      "Enter file path for sequence1: seq1.txt\n",
      "Enter file path for sequence2: seq2.txt\n",
      "Enter Max Shifts: 4\n",
      "please select one options: \n",
      "                      1. Maximum contiguous chain: \n",
      "                      2. Number of Matches: \n",
      "  2\n",
      "Before shifting\n",
      "ACTGATCAA\n",
      "TTAGCTCGA\n",
      "Score: 4\n",
      "\n",
      "\n",
      "shifting sequence1 by 1\n",
      "-ACTGATCAA\n",
      "TTAGCTCGA-\n",
      "Score: 1\n",
      "\n",
      "\n",
      "shifting sequence1 by 2\n",
      "--ACTGATCAA\n",
      "TTAGCTCGA--\n",
      "Score: 1\n",
      "\n",
      "\n",
      "shifting sequence1 by 3\n",
      "---ACTGATCAA\n",
      "TTAGCTCGA---\n",
      "Score: 2\n",
      "\n",
      "\n",
      "shifting sequence1 by 4\n",
      "----ACTGATCAA\n",
      "TTAGCTCGA----\n",
      "Score: 2\n",
      "\n",
      "\n",
      "shifting sequence2 by 1\n",
      "ACTGATCAA-\n",
      "-TTAGCTCGA\n",
      "Score: 1\n",
      "\n",
      "\n",
      "shifting sequence2 by 2\n",
      "ACTGATCAA--\n",
      "--TTAGCTCGA\n",
      "Score: 3\n",
      "\n",
      "\n",
      "shifting sequence2 by 3\n",
      "ACTGATCAA---\n",
      "---TTAGCTCGA\n",
      "Score: 0\n",
      "\n",
      "\n",
      "shifting sequence2 by 4\n",
      "ACTGATCAA----\n",
      "----TTAGCTCGA\n",
      "Score: 1\n",
      "\n",
      "\n"
     ]
    }
   ],
   "source": [
    "def main():\n",
    "\n",
    "    \n",
    "    seq1 = input(\"Enter file path for sequence1: \")\n",
    "    seq2 = input(\"Enter file path for sequence2: \")\n",
    "    shifts = input(\"Enter Max Shifts: \")\n",
    "    options = input(\"please select one options: \\n \\\n",
    "                     1. Maximum contiguous chain: \\n \\\n",
    "                     2. Number of Matches: \\n  \")\n",
    "    \n",
    "    try:\n",
    "        f=open(\"seq1.txt\", \"r\")\n",
    "        s1 = f.read()\n",
    "        f.close()\n",
    "    \n",
    "        f=open(\"seq2.txt\", \"r\")\n",
    "        s2 = f.read()\n",
    "        f.close()\n",
    "        \n",
    "        if options == \"1\":\n",
    "            max_chain_Seq1(s1,s2,shifts)\n",
    "            max_chain_Seq2(s1,s2,shifts)\n",
    "        else:\n",
    "            shifting_Seq1(s1,s2,shifts)\n",
    "            shifting_Seq2(s1,s2,shifts)\n",
    "              \n",
    "    except:\n",
    "        print(\"unable to read input files\")\n",
    "    \n",
    "\n",
    "if __name__ == '__main__':\n",
    "    main()"
   ]
  },
  {
   "cell_type": "code",
   "execution_count": null,
   "metadata": {},
   "outputs": [],
   "source": []
  },
  {
   "cell_type": "code",
   "execution_count": null,
   "metadata": {},
   "outputs": [],
   "source": []
  }
 ],
 "metadata": {
  "kernelspec": {
   "display_name": "Python 3",
   "language": "python",
   "name": "python3"
  },
  "language_info": {
   "codemirror_mode": {
    "name": "ipython",
    "version": 3
   },
   "file_extension": ".py",
   "mimetype": "text/x-python",
   "name": "python",
   "nbconvert_exporter": "python",
   "pygments_lexer": "ipython3",
   "version": "3.8.3"
  }
 },
 "nbformat": 4,
 "nbformat_minor": 4
}
