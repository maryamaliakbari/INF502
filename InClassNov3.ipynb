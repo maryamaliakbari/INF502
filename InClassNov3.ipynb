{
 "cells": [
  {
   "cell_type": "code",
   "execution_count": 1,
   "metadata": {},
   "outputs": [],
   "source": [
    "# Group Members: Sara Meschi, Maryam Aliakbari, Mohammad Mohammadi"
   ]
  },
  {
   "cell_type": "code",
   "execution_count": 2,
   "metadata": {},
   "outputs": [],
   "source": [
    "import requests\n",
    "from bs4 import BeautifulSoup\n",
    "import pandas"
   ]
  },
  {
   "cell_type": "code",
   "execution_count": 3,
   "metadata": {},
   "outputs": [],
   "source": [
    "result = requests.get(\"https://en.wikipedia.org/wiki/List_of_countries_and_dependencies_by_population_density\")\n",
    "content = result.content\n",
    "soup = BeautifulSoup(content, \"html.parser\")"
   ]
  },
  {
   "cell_type": "code",
   "execution_count": 4,
   "metadata": {
    "scrolled": false
   },
   "outputs": [],
   "source": [
    "list_of_country = soup.find('table',attrs={\"class\":\"sortable\"})\n",
    "table_dic = {}\n",
    "for row in list_of_country.findAll(\"tr\"):\n",
    "    columns = row.findAll(\"td\")\n",
    "#     print(len((row.find_all('a', attrs={\"title\": \"Population density\"}))))\n",
    "    if (len(columns) > 0):\n",
    "         if not len(row.find_all('a', attrs={\"title\": \"Population density\"}))>0:\n",
    "            country_name = columns[1].text.strip()\n",
    "            area_in_km = columns[2].text.replace(',','')\n",
    "            area_in_mi = columns[3].text.replace(',','')\n",
    "            population = columns[4].text.replace(',','')\n",
    "            table_dic[country_name] = {'area_km2': float(area_in_km),\n",
    "                                      'area_mi2': float(area_in_mi),  \n",
    "                                     'population': int(population)}  "
   ]
  },
  {
   "cell_type": "code",
   "execution_count": 5,
   "metadata": {
    "scrolled": false
   },
   "outputs": [
    {
     "data": {
      "text/html": [
       "<div>\n",
       "<style scoped>\n",
       "    .dataframe tbody tr th:only-of-type {\n",
       "        vertical-align: middle;\n",
       "    }\n",
       "\n",
       "    .dataframe tbody tr th {\n",
       "        vertical-align: top;\n",
       "    }\n",
       "\n",
       "    .dataframe thead th {\n",
       "        text-align: right;\n",
       "    }\n",
       "</style>\n",
       "<table border=\"1\" class=\"dataframe\">\n",
       "  <thead>\n",
       "    <tr style=\"text-align: right;\">\n",
       "      <th></th>\n",
       "      <th>area_km2</th>\n",
       "      <th>area_mi2</th>\n",
       "      <th>population</th>\n",
       "    </tr>\n",
       "  </thead>\n",
       "  <tbody>\n",
       "    <tr>\n",
       "      <th>Macau (China)</th>\n",
       "      <td>115.30</td>\n",
       "      <td>45.00</td>\n",
       "      <td>696100</td>\n",
       "    </tr>\n",
       "    <tr>\n",
       "      <th>Monaco</th>\n",
       "      <td>2.02</td>\n",
       "      <td>0.78</td>\n",
       "      <td>38300</td>\n",
       "    </tr>\n",
       "    <tr>\n",
       "      <th>Singapore</th>\n",
       "      <td>722.50</td>\n",
       "      <td>279.00</td>\n",
       "      <td>5703600</td>\n",
       "    </tr>\n",
       "    <tr>\n",
       "      <th>Hong Kong (China)</th>\n",
       "      <td>1106.00</td>\n",
       "      <td>427.00</td>\n",
       "      <td>7500700</td>\n",
       "    </tr>\n",
       "    <tr>\n",
       "      <th>Gibraltar (United Kingdom)</th>\n",
       "      <td>6.80</td>\n",
       "      <td>2.60</td>\n",
       "      <td>33701</td>\n",
       "    </tr>\n",
       "    <tr>\n",
       "      <th>...</th>\n",
       "      <td>...</td>\n",
       "      <td>...</td>\n",
       "      <td>...</td>\n",
       "    </tr>\n",
       "    <tr>\n",
       "      <th>Mongolia</th>\n",
       "      <td>1564100.00</td>\n",
       "      <td>603902.00</td>\n",
       "      <td>3238479</td>\n",
       "    </tr>\n",
       "    <tr>\n",
       "      <th>Pitcairn Islands (United Kingdom)</th>\n",
       "      <td>47.30</td>\n",
       "      <td>18.00</td>\n",
       "      <td>56</td>\n",
       "    </tr>\n",
       "    <tr>\n",
       "      <th>Falkland Islands (United Kingdom)</th>\n",
       "      <td>12173.00</td>\n",
       "      <td>4700.00</td>\n",
       "      <td>2563</td>\n",
       "    </tr>\n",
       "    <tr>\n",
       "      <th>Svalbard and Jan Mayen (Norway)</th>\n",
       "      <td>61399.00</td>\n",
       "      <td>23706.00</td>\n",
       "      <td>2655</td>\n",
       "    </tr>\n",
       "    <tr>\n",
       "      <th>Greenland (Denmark)</th>\n",
       "      <td>2166000.00</td>\n",
       "      <td>836297.00</td>\n",
       "      <td>55877</td>\n",
       "    </tr>\n",
       "  </tbody>\n",
       "</table>\n",
       "<p>251 rows × 3 columns</p>\n",
       "</div>"
      ],
      "text/plain": [
       "                                     area_km2   area_mi2  population\n",
       "Macau (China)                          115.30      45.00      696100\n",
       "Monaco                                   2.02       0.78       38300\n",
       "Singapore                              722.50     279.00     5703600\n",
       "Hong Kong (China)                     1106.00     427.00     7500700\n",
       "Gibraltar (United Kingdom)               6.80       2.60       33701\n",
       "...                                       ...        ...         ...\n",
       "Mongolia                           1564100.00  603902.00     3238479\n",
       "Pitcairn Islands (United Kingdom)       47.30      18.00          56\n",
       "Falkland Islands (United Kingdom)    12173.00    4700.00        2563\n",
       "Svalbard and Jan Mayen (Norway)      61399.00   23706.00        2655\n",
       "Greenland (Denmark)                2166000.00  836297.00       55877\n",
       "\n",
       "[251 rows x 3 columns]"
      ]
     },
     "execution_count": 5,
     "metadata": {},
     "output_type": "execute_result"
    }
   ],
   "source": [
    "Data = pandas.DataFrame.from_dict(table_dic, orient= 'index')\n",
    "Data"
   ]
  },
  {
   "cell_type": "code",
   "execution_count": 6,
   "metadata": {},
   "outputs": [
    {
     "data": {
      "text/html": [
       "<div>\n",
       "<style scoped>\n",
       "    .dataframe tbody tr th:only-of-type {\n",
       "        vertical-align: middle;\n",
       "    }\n",
       "\n",
       "    .dataframe tbody tr th {\n",
       "        vertical-align: top;\n",
       "    }\n",
       "\n",
       "    .dataframe thead th {\n",
       "        text-align: right;\n",
       "    }\n",
       "</style>\n",
       "<table border=\"1\" class=\"dataframe\">\n",
       "  <thead>\n",
       "    <tr style=\"text-align: right;\">\n",
       "      <th></th>\n",
       "      <th>area_km2</th>\n",
       "      <th>area_mi2</th>\n",
       "      <th>population</th>\n",
       "    </tr>\n",
       "  </thead>\n",
       "  <tbody>\n",
       "    <tr>\n",
       "      <th>count</th>\n",
       "      <td>2.510000e+02</td>\n",
       "      <td>2.510000e+02</td>\n",
       "      <td>2.510000e+02</td>\n",
       "    </tr>\n",
       "    <tr>\n",
       "      <th>mean</th>\n",
       "      <td>5.432938e+05</td>\n",
       "      <td>2.097769e+05</td>\n",
       "      <td>3.047293e+07</td>\n",
       "    </tr>\n",
       "    <tr>\n",
       "      <th>std</th>\n",
       "      <td>1.716009e+06</td>\n",
       "      <td>6.625517e+05</td>\n",
       "      <td>1.283047e+08</td>\n",
       "    </tr>\n",
       "    <tr>\n",
       "      <th>min</th>\n",
       "      <td>4.900000e-01</td>\n",
       "      <td>1.900000e-01</td>\n",
       "      <td>5.600000e+01</td>\n",
       "    </tr>\n",
       "    <tr>\n",
       "      <th>25%</th>\n",
       "      <td>1.590200e+03</td>\n",
       "      <td>6.740000e+02</td>\n",
       "      <td>2.638290e+05</td>\n",
       "    </tr>\n",
       "    <tr>\n",
       "      <th>50%</th>\n",
       "      <td>6.456200e+04</td>\n",
       "      <td>2.492800e+04</td>\n",
       "      <td>4.475353e+06</td>\n",
       "    </tr>\n",
       "    <tr>\n",
       "      <th>75%</th>\n",
       "      <td>3.495840e+05</td>\n",
       "      <td>1.349750e+05</td>\n",
       "      <td>1.764158e+07</td>\n",
       "    </tr>\n",
       "    <tr>\n",
       "      <th>max</th>\n",
       "      <td>1.712524e+07</td>\n",
       "      <td>6.612093e+06</td>\n",
       "      <td>1.405181e+09</td>\n",
       "    </tr>\n",
       "  </tbody>\n",
       "</table>\n",
       "</div>"
      ],
      "text/plain": [
       "           area_km2      area_mi2    population\n",
       "count  2.510000e+02  2.510000e+02  2.510000e+02\n",
       "mean   5.432938e+05  2.097769e+05  3.047293e+07\n",
       "std    1.716009e+06  6.625517e+05  1.283047e+08\n",
       "min    4.900000e-01  1.900000e-01  5.600000e+01\n",
       "25%    1.590200e+03  6.740000e+02  2.638290e+05\n",
       "50%    6.456200e+04  2.492800e+04  4.475353e+06\n",
       "75%    3.495840e+05  1.349750e+05  1.764158e+07\n",
       "max    1.712524e+07  6.612093e+06  1.405181e+09"
      ]
     },
     "execution_count": 6,
     "metadata": {},
     "output_type": "execute_result"
    }
   ],
   "source": [
    "Data.describe()"
   ]
  },
  {
   "cell_type": "code",
   "execution_count": 7,
   "metadata": {},
   "outputs": [
    {
     "data": {
      "text/html": [
       "<style  type=\"text/css\" >\n",
       "    #T_24ffe532_1f94_11eb_b550_acde48001122row0_col0 {\n",
       "            background-color:  #ff0000;\n",
       "            color:  #f1f1f1;\n",
       "        }    #T_24ffe532_1f94_11eb_b550_acde48001122row0_col1 {\n",
       "            background-color:  #ff0000;\n",
       "            color:  #f1f1f1;\n",
       "        }    #T_24ffe532_1f94_11eb_b550_acde48001122row0_col2 {\n",
       "            background-color:  #8000ff;\n",
       "            color:  #f1f1f1;\n",
       "        }    #T_24ffe532_1f94_11eb_b550_acde48001122row1_col0 {\n",
       "            background-color:  #ff0000;\n",
       "            color:  #f1f1f1;\n",
       "        }    #T_24ffe532_1f94_11eb_b550_acde48001122row1_col1 {\n",
       "            background-color:  #ff0000;\n",
       "            color:  #f1f1f1;\n",
       "        }    #T_24ffe532_1f94_11eb_b550_acde48001122row1_col2 {\n",
       "            background-color:  #8000ff;\n",
       "            color:  #f1f1f1;\n",
       "        }    #T_24ffe532_1f94_11eb_b550_acde48001122row2_col0 {\n",
       "            background-color:  #8000ff;\n",
       "            color:  #f1f1f1;\n",
       "        }    #T_24ffe532_1f94_11eb_b550_acde48001122row2_col1 {\n",
       "            background-color:  #8000ff;\n",
       "            color:  #f1f1f1;\n",
       "        }    #T_24ffe532_1f94_11eb_b550_acde48001122row2_col2 {\n",
       "            background-color:  #ff0000;\n",
       "            color:  #f1f1f1;\n",
       "        }</style><table id=\"T_24ffe532_1f94_11eb_b550_acde48001122\" ><thead>    <tr>        <th class=\"blank level0\" ></th>        <th class=\"col_heading level0 col0\" >area_km2</th>        <th class=\"col_heading level0 col1\" >area_mi2</th>        <th class=\"col_heading level0 col2\" >population</th>    </tr></thead><tbody>\n",
       "                <tr>\n",
       "                        <th id=\"T_24ffe532_1f94_11eb_b550_acde48001122level0_row0\" class=\"row_heading level0 row0\" >area_km2</th>\n",
       "                        <td id=\"T_24ffe532_1f94_11eb_b550_acde48001122row0_col0\" class=\"data row0 col0\" >1.000000</td>\n",
       "                        <td id=\"T_24ffe532_1f94_11eb_b550_acde48001122row0_col1\" class=\"data row0 col1\" >1.000000</td>\n",
       "                        <td id=\"T_24ffe532_1f94_11eb_b550_acde48001122row0_col2\" class=\"data row0 col2\" >0.459150</td>\n",
       "            </tr>\n",
       "            <tr>\n",
       "                        <th id=\"T_24ffe532_1f94_11eb_b550_acde48001122level0_row1\" class=\"row_heading level0 row1\" >area_mi2</th>\n",
       "                        <td id=\"T_24ffe532_1f94_11eb_b550_acde48001122row1_col0\" class=\"data row1 col0\" >1.000000</td>\n",
       "                        <td id=\"T_24ffe532_1f94_11eb_b550_acde48001122row1_col1\" class=\"data row1 col1\" >1.000000</td>\n",
       "                        <td id=\"T_24ffe532_1f94_11eb_b550_acde48001122row1_col2\" class=\"data row1 col2\" >0.459149</td>\n",
       "            </tr>\n",
       "            <tr>\n",
       "                        <th id=\"T_24ffe532_1f94_11eb_b550_acde48001122level0_row2\" class=\"row_heading level0 row2\" >population</th>\n",
       "                        <td id=\"T_24ffe532_1f94_11eb_b550_acde48001122row2_col0\" class=\"data row2 col0\" >0.459150</td>\n",
       "                        <td id=\"T_24ffe532_1f94_11eb_b550_acde48001122row2_col1\" class=\"data row2 col1\" >0.459149</td>\n",
       "                        <td id=\"T_24ffe532_1f94_11eb_b550_acde48001122row2_col2\" class=\"data row2 col2\" >1.000000</td>\n",
       "            </tr>\n",
       "    </tbody></table>"
      ],
      "text/plain": [
       "<pandas.io.formats.style.Styler at 0x11eb7cac0>"
      ]
     },
     "execution_count": 7,
     "metadata": {},
     "output_type": "execute_result"
    }
   ],
   "source": [
    "Data.corr(method='pearson').style.background_gradient(cmap='rainbow')"
   ]
  },
  {
   "cell_type": "code",
   "execution_count": 8,
   "metadata": {},
   "outputs": [
    {
     "data": {
      "text/plain": [
       "<matplotlib.axes._subplots.AxesSubplot at 0x11fe6ab50>"
      ]
     },
     "execution_count": 8,
     "metadata": {},
     "output_type": "execute_result"
    },
    {
     "data": {
      "image/png": "[encoded data removed]",
      "text/plain": [
       "<Figure size 432x288 with 1 Axes>"
      ]
     },
     "metadata": {
      "needs_background": "light"
     },
     "output_type": "display_data"
    }
   ],
   "source": [
    "Data.plot.scatter(x = \"area_km2\", y = \"population\")"
   ]
  },
  {
   "cell_type": "code",
   "execution_count": null,
   "metadata": {},
   "outputs": [],
   "source": []
  }
 ],
 "metadata": {
  "kernelspec": {
   "display_name": "Python 3",
   "language": "python",
   "name": "python3"
  },
  "language_info": {
   "codemirror_mode": {
    "name": "ipython",
    "version": 3
   },
   "file_extension": ".py",
   "mimetype": "text/x-python",
   "name": "python",
   "nbconvert_exporter": "python",
   "pygments_lexer": "ipython3",
   "version": "3.8.3"
  }
 },
 "nbformat": 4,
 "nbformat_minor": 4
}
