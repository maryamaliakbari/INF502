{
 "cells": [
  {
   "cell_type": "markdown",
   "metadata": {},
   "source": [
    "## Igor Feedback\n",
    "\n",
    "* Overall: I could not make the maximum chain work. There are repeated functions and it looks like that they are not necessary. Exceptions are raised and not treated. THe exceptions are just shown after all the inputs (make them contextualized -- after each input -- and let the user have a second chance)\n",
    "\n",
    "* Number of matches: OK\n",
    "* Maximum chain: No.\n",
    "* User-input: Need some improvements, but works\n",
    "* Max Shift: OK. \n",
    "* Exception handling/checks: Catching the exception, but throwing at the user/not treating\n",
    "    - Files: OK...But context is missing + I cannot retry\n",
    "    - Conversions: OK.\n",
    "    - Inputs: OK... \n",
    "    - same size, no bad chars, etc.:  No check for chars that are not ACTG; Length is checked but fixed instead of raised as error.\n",
    "* Functions: OK... But, repeated functions that are not necessary\n",
    "\n",
    "* Variable + function names:OK\n",
    "\n",
    "* **Your grade is 65/100**"
   ]
  },
  {
   "cell_type": "markdown",
   "metadata": {},
   "source": [
    "I divided the problem into seven parts and created seven different functions in my program.\n",
    "Similarity, MAXChain, shifting_seq1, Shifting_seq2, max_chain_seq1, max_chain_seq2 and main functions were created.\n",
    "\n",
    "In the main function: \n",
    "I read the two DNA sequence files and take all the user defined inputs(max shifts, number of matches and max contiguous chain).\n",
    "I used the try/except blocks for possible errors in the user inputs. \n",
    "\n",
    "In the Similarity function:\n",
    "seq1 and seq2 are compared and number of matches are returned as score.\n",
    "\n",
    "In the MAXChain function:\n",
    "The function calculates the size of the maximum contiguous chain that matches the sequences and the sequences will print.\n",
    "\n",
    "In the shifting_seq1&2 and max_chain_seq1&2:\n",
    "At first, the two sequences are compared (without any shift) and \n",
    "the number of matches are stored. Then one sequence is shifted by one place and compared with the other one. \n",
    "In each case, the match number and max contigous chain are stored.\n",
    "\n",
    "The hurdle I faced was about max contiguous chain. I could not understand the problem and what you exactly expected us to do. Another thing was about using try and Exception error. I was not sure how i can use them in my code."
   ]
  },
  {
   "cell_type": "code",
   "execution_count": 1,
   "metadata": {},
   "outputs": [],
   "source": [
    "def Similarity(seq1,seq2):\n",
    "    score = 0\n",
    "    for i in range(0,len(seq1)):\n",
    "        if seq1[i] == seq2[i]:\n",
    "            score = score+1\n",
    "    return score                        "
   ]
  },
  {
   "cell_type": "code",
   "execution_count": 44,
   "metadata": {},
   "outputs": [],
   "source": [
    "def MAXChain(seq1,seq2):  \n",
    "    chain = 0\n",
    "    total = 0\n",
    "    for i in range(0,len(seq1)):\n",
    "        #Igor: I did not understand the rationale behind this if/elif... \n",
    "        #Use a flag to check if the previous was == or not?\n",
    "        #Igor: does not work... it is close, but no\n",
    "        if seq1[i] == seq2[i] and total == 0:\n",
    "            total = i\n",
    "            chain =  chain + 1\n",
    "        #Igor: what is the relationship between i and total?\n",
    "        elif seq1[i] == seq2[i]  and i == (total + 1):\n",
    "            total = i\n",
    "            chain  = chain + 1\n",
    "    return chain"
   ]
  },
  {
   "cell_type": "code",
   "execution_count": 45,
   "metadata": {},
   "outputs": [],
   "source": [
    "#Igor: 2 functions fdoing the same thing\n",
    "def shifting_Seq1(s1,s2,shifts):\n",
    "    print(\"Before shifting\")\n",
    "    score = Similarity(s1,s2)\n",
    "    print(s1)\n",
    "    print(s2)\n",
    "    print(\"Score:\",score)\n",
    "    print(\"\\n\")\n",
    "\n",
    "    for i in range(0,int(shifts)):\n",
    "        print(\"shifting sequence1 by \"+ str(i+1))\n",
    "        s1 = '-'+s1\n",
    "        s2 = s2+'-'\n",
    "        score = Similarity(s1,s2)\n",
    "        print(s1)\n",
    "        print(s2)\n",
    "        print(\"Score:\",score)\n",
    "        print(\"\\n\")"
   ]
  },
  {
   "cell_type": "code",
   "execution_count": 46,
   "metadata": {},
   "outputs": [],
   "source": [
    "def shifting_Seq2(s1,s2,shifts):\n",
    "\n",
    "    for i in range(0,int(shifts)):\n",
    "        print(\"shifting sequence2 by \"+str(i+1))\n",
    "        s1 = s1+'-'\n",
    "        s2 = '-'+s2\n",
    "        score = Similarity(s1,s2)\n",
    "        print(s1)\n",
    "        print(s2)\n",
    "        print(\"Score:\",score)\n",
    "        print(\"\\n\")"
   ]
  },
  {
   "cell_type": "code",
   "execution_count": 47,
   "metadata": {},
   "outputs": [],
   "source": [
    "#Igor: I don't understand the functions with the same content. \n",
    "#You can call them just changing the order of the parameters when outside:\n",
    "# max_chain_Seq1(s1,s2,shifts)\n",
    "# max_chain_Seq1(s2,s1,shifts)\n",
    "#You don't need two.\n",
    "#The goal of functions is REUSE. We can chat and I can show you if you want o have a better understanding.\n",
    "def max_chain_Seq1(s1,s2,shifts):\n",
    "    print(\"Before shifting\")\n",
    "    chain = MAXChain(s1,s2)\n",
    "    print(s1)\n",
    "    print(s2)\n",
    "    print(\"Max contiguous Chain:\",chain)\n",
    "    print(\"\\n\")\n",
    "    for i in range(0,int(shifts)):\n",
    "        print(\"shifting sequence1 by \"+ str(i+1))\n",
    "        s1 = '-'+s1\n",
    "        s2 = s2+'-'\n",
    "        print(s1)\n",
    "        print(s2)\n",
    "        print(\"Max contiguous Chain:\",MAXChain(s1,s2))\n",
    "        print(\"\\n\")\n",
    "\n"
   ]
  },
  {
   "cell_type": "code",
   "execution_count": 48,
   "metadata": {},
   "outputs": [],
   "source": [
    "def max_chain_Seq2(s1,s2,shifts):\n",
    "   \n",
    "    for i in range(0,int(shifts)):\n",
    "        print(\"shifting sequence2 by \"+ str(i+1))\n",
    "        s1 = s1+'-'\n",
    "        s2 = '-'+s2\n",
    "        print(s1)\n",
    "        print(s2)\n",
    "        print(\"Max contiguous Chain:\",MAXChain(s1,s2))\n",
    "        print(\"\\n\")\n"
   ]
  },
  {
   "cell_type": "code",
   "execution_count": 53,
   "metadata": {
    "scrolled": true
   },
   "outputs": [
    {
     "name": "stdout",
     "output_type": "stream",
     "text": [
      "Enter file path for sequence1: f7\n",
      "Enter file path for sequence2: f4\n",
      "Enter Max Shifts: 2\n",
      "please select one options: \n",
      "                      1. Maximum contiguous chain: \n",
      "                      2. Number of Matches: \n",
      "                     your select is:\n",
      "3\n"
     ]
    },
    {
     "ename": "FileNotFoundError",
     "evalue": "unable to read input files",
     "output_type": "error",
     "traceback": [
      "\u001b[0;31m---------------------------------------------------------------------------\u001b[0m",
      "\u001b[0;31mFileNotFoundError\u001b[0m                         Traceback (most recent call last)",
      "\u001b[0;32m<ipython-input-53-e1f94d21f4a1>\u001b[0m in \u001b[0;36mmain\u001b[0;34m()\u001b[0m\n\u001b[1;32m     19\u001b[0m     \u001b[0;32mtry\u001b[0m\u001b[0;34m:\u001b[0m\u001b[0;34m\u001b[0m\u001b[0;34m\u001b[0m\u001b[0m\n\u001b[0;32m---> 20\u001b[0;31m         \u001b[0mf\u001b[0m\u001b[0;34m=\u001b[0m\u001b[0mopen\u001b[0m\u001b[0;34m(\u001b[0m\u001b[0mseq1\u001b[0m\u001b[0;34m,\u001b[0m \u001b[0;34m\"r\"\u001b[0m\u001b[0;34m)\u001b[0m\u001b[0;34m\u001b[0m\u001b[0;34m\u001b[0m\u001b[0m\n\u001b[0m\u001b[1;32m     21\u001b[0m         \u001b[0ms1\u001b[0m \u001b[0;34m=\u001b[0m \u001b[0mf\u001b[0m\u001b[0;34m.\u001b[0m\u001b[0mread\u001b[0m\u001b[0;34m(\u001b[0m\u001b[0;34m)\u001b[0m\u001b[0;34m\u001b[0m\u001b[0;34m\u001b[0m\u001b[0m\n",
      "\u001b[0;31mFileNotFoundError\u001b[0m: [Errno 2] No such file or directory: 'f7'",
      "\nDuring handling of the above exception, another exception occurred:\n",
      "\u001b[0;31mFileNotFoundError\u001b[0m                         Traceback (most recent call last)",
      "\u001b[0;32m<ipython-input-53-e1f94d21f4a1>\u001b[0m in \u001b[0;36m<module>\u001b[0;34m\u001b[0m\n\u001b[1;32m     53\u001b[0m \u001b[0;34m\u001b[0m\u001b[0m\n\u001b[1;32m     54\u001b[0m \u001b[0;32mif\u001b[0m \u001b[0m__name__\u001b[0m \u001b[0;34m==\u001b[0m \u001b[0;34m'__main__'\u001b[0m\u001b[0;34m:\u001b[0m\u001b[0;34m\u001b[0m\u001b[0;34m\u001b[0m\u001b[0m\n\u001b[0;32m---> 55\u001b[0;31m     \u001b[0mmain\u001b[0m\u001b[0;34m(\u001b[0m\u001b[0;34m)\u001b[0m\u001b[0;34m\u001b[0m\u001b[0;34m\u001b[0m\u001b[0m\n\u001b[0m\u001b[1;32m     56\u001b[0m \u001b[0;34m\u001b[0m\u001b[0m\n",
      "\u001b[0;32m<ipython-input-53-e1f94d21f4a1>\u001b[0m in \u001b[0;36mmain\u001b[0;34m()\u001b[0m\n\u001b[1;32m     29\u001b[0m     \u001b[0;32mexcept\u001b[0m\u001b[0;34m:\u001b[0m\u001b[0;34m\u001b[0m\u001b[0;34m\u001b[0m\u001b[0m\n\u001b[1;32m     30\u001b[0m \u001b[0;31m#         print(\"unable to read input files\")\u001b[0m\u001b[0;34m\u001b[0m\u001b[0;34m\u001b[0m\u001b[0;34m\u001b[0m\u001b[0m\n\u001b[0;32m---> 31\u001b[0;31m         \u001b[0;32mraise\u001b[0m \u001b[0mFileNotFoundError\u001b[0m\u001b[0;34m(\u001b[0m\u001b[0;34m\"unable to read input files\"\u001b[0m\u001b[0;34m)\u001b[0m\u001b[0;34m\u001b[0m\u001b[0;34m\u001b[0m\u001b[0m\n\u001b[0m\u001b[1;32m     32\u001b[0m \u001b[0;34m\u001b[0m\u001b[0m\n\u001b[1;32m     33\u001b[0m     \u001b[0;32mif\u001b[0m \u001b[0mlen\u001b[0m\u001b[0;34m(\u001b[0m\u001b[0ms1\u001b[0m\u001b[0;34m)\u001b[0m  \u001b[0;34m==\u001b[0m \u001b[0mlen\u001b[0m\u001b[0;34m(\u001b[0m\u001b[0ms2\u001b[0m\u001b[0;34m)\u001b[0m\u001b[0;34m:\u001b[0m\u001b[0;34m\u001b[0m\u001b[0;34m\u001b[0m\u001b[0m\n",
      "\u001b[0;31mFileNotFoundError\u001b[0m: unable to read input files"
     ]
    }
   ],
   "source": [
    "def main():\n",
    "    \n",
    "    seq1 = input(\"Enter file path for sequence1: \")\n",
    "    seq2 = input(\"Enter file path for sequence2: \")\n",
    "\n",
    "    shifts = int(input(\"Enter Max Shifts: \"))\n",
    "    #Igor: you are checking the length of the file name, not the lengh of the content of the file\n",
    "#    if shifts >= len(seq1):\n",
    "               \n",
    "#        raise ValueError(\"wrong entry, max shifts exceed length of sequence.\")    \n",
    "    try:\n",
    "        options = int(input(\"please select one options: \\n \\\n",
    "                     1. Maximum contiguous chain: \\n \\\n",
    "                     2. Number of Matches: \\n\\\n",
    "                     your select is:\\n\"))\n",
    "    except ValueError:\n",
    "        print(\"wrong entry, please enter a valid number\")\n",
    "    \n",
    "    try:\n",
    "        f=open(seq1, \"r\")\n",
    "        s1 = f.read()\n",
    "        f.close()\n",
    "    \n",
    "        f=open(seq2, \"r\")\n",
    "        s2 = f.read()\n",
    "        f.close()\n",
    "    # Igor: You are getting the exceptions, but I suggest to show an appropriate message to the user, not raising\n",
    "    #the exception (you can catch tme all where you call the main())\n",
    "    #Igor: except (WHICH ERROR?)\n",
    "    except:\n",
    "#         print(\"unable to read input files\")\n",
    "        raise FileNotFoundError(\"unable to read input files\")\n",
    "    \n",
    "    if len(s1)  == len(s2): \n",
    "        for Char in s1:\n",
    "            if Char != 'A' and Char != 'G' and Char != 'C' and Char != 'T':\n",
    "#                 print(\"Your sequence1 has unavilable character! Please input again\\n\")\n",
    "                raise ValueError(\"Your sequence1 has unavilable character!\")\n",
    "        for Char in s2:\n",
    "            if Char != 'A' and Char != 'G' and Char != 'C' and Char != 'T':\n",
    "#                 print(\"Your sequence2 has unavilable character! Please input again\\n\")\n",
    "                raise ValueError(\"Your sequence2 has unavilable character!\")\n",
    "        if options == 1:\n",
    "            max_chain_Seq1(s1,s2,shifts)\n",
    "            max_chain_Seq(s1,s2,shifts)\n",
    "        elif options == 2:\n",
    "            shifting_Seq1(s1,s2,shifts)\n",
    "            shifting_Seq2(s1,s2,shifts)\n",
    "        else:\n",
    "            print(\"wrong entry, please enter a valid options number\")\n",
    "    else:\n",
    "        raise ValueError(\"sequence1 and sequence2 do not have the same length.\")\n",
    "    \n",
    "\n",
    "if __name__ == '__main__':\n",
    "    main()        \n",
    "        "
   ]
  },
  {
   "cell_type": "code",
   "execution_count": null,
   "metadata": {},
   "outputs": [],
   "source": []
  }
 ],
 "metadata": {
  "kernelspec": {
   "display_name": "Python 3",
   "language": "python",
   "name": "python3"
  },
  "language_info": {
   "codemirror_mode": {
    "name": "ipython",
    "version": 3
   },
   "file_extension": ".py",
   "mimetype": "text/x-python",
   "name": "python",
   "nbconvert_exporter": "python",
   "pygments_lexer": "ipython3",
   "version": "3.7.6"
  }
 },
 "nbformat": 4,
 "nbformat_minor": 4
}
